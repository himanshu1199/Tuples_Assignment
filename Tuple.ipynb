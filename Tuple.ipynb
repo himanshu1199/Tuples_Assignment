{
 "cells": [
  {
   "cell_type": "markdown",
   "id": "53b29b64-e7b3-4e7f-bfec-bed192ab61e5",
   "metadata": {},
   "source": [
    "***Assignment - Tuples***"
   ]
  },
  {
   "cell_type": "markdown",
   "id": "27d8f61b-73a8-490c-b409-8dd22f07d195",
   "metadata": {},
   "source": [
    "Ans 1 **Tuple** is a collection of objects separated by commas. In some ways, a tuple is similar to a list in terms of indexing, nested objects, and repetition but a **tuple is immutable**, unlike lists which are mutable.\n",
    "\n",
    "Syntax : tuple_1 = (value_1, value_2, value_3, value_4, value_5)"
   ]
  },
  {
   "cell_type": "markdown",
   "id": "2458fa5d-89dd-455e-9f61-263fee164b7b",
   "metadata": {},
   "source": [
    "Ans 2 Create a Tuple "
   ]
  },
  {
   "cell_type": "code",
   "execution_count": 3,
   "id": "3924e04d-4cd6-4016-a583-e2010970ed8a",
   "metadata": {},
   "outputs": [],
   "source": [
    "T1 = (1,2,1,4,5,4,5, \"PW Skills\", 4+5j)"
   ]
  },
  {
   "cell_type": "code",
   "execution_count": 4,
   "id": "957c691b-080c-4cb1-883f-568b102acee7",
   "metadata": {},
   "outputs": [
    {
     "name": "stdout",
     "output_type": "stream",
     "text": [
      "(1, 2, 1, 4, 5, 4, 5, 'PW Skills', (4+5j))\n"
     ]
    }
   ],
   "source": [
    "print(T1)"
   ]
  },
  {
   "cell_type": "markdown",
   "id": "8c2eead9-44c2-4a78-b08a-bd76bcaa6d34",
   "metadata": {},
   "source": [
    "Ans 3 Difference between Tuple and List \n",
    "\n",
    "The primary difference between tuples and lists is that tuples are **immutable** as opposed to lists which are mutable. Therefore, it is possible to change a list but not a tuple.\n",
    "\n",
    "The contents of a tuple cannot change once they have been created in Python due to the immutability of tuples."
   ]
  },
  {
   "cell_type": "markdown",
   "id": "844edb0f-e548-4f9f-bc67-3d21e5340aae",
   "metadata": {},
   "source": [
    "Ans 4 We can't chnage the elements of tuples because **tuples are immutable**\n",
    "\n",
    "but **tuples can be change in list by the use of list() but this change is not permanent.**"
   ]
  },
  {
   "cell_type": "markdown",
   "id": "deb817bc-ab64-4b43-9d7a-64aa33fc0c22",
   "metadata": {},
   "source": [
    "Ans 5 Accessing Values/Elements in Python Tuples\n",
    "\n",
    "**Method 1**: Using a Positive Index\n",
    "Using square brackets we can get the values from tuples\n",
    "\n",
    "**Method 2**: Using Negative Index.\n",
    "In the above methods, we use the positive index to access the value in Python, and here we will use -ve index within [].\n",
    "\n",
    "Examples given below"
   ]
  },
  {
   "cell_type": "code",
   "execution_count": 10,
   "id": "915104a5-cc2f-4cd4-9cc8-8ba778e74f5e",
   "metadata": {},
   "outputs": [
    {
     "name": "stdout",
     "output_type": "stream",
     "text": [
      "4\n"
     ]
    }
   ],
   "source": [
    "# Positive Indexing \n",
    "\n",
    "print(T1[5])"
   ]
  },
  {
   "cell_type": "code",
   "execution_count": 9,
   "id": "f6a8c408-3feb-43df-94b1-925799b21b80",
   "metadata": {},
   "outputs": [
    {
     "name": "stdout",
     "output_type": "stream",
     "text": [
      "1\n"
     ]
    }
   ],
   "source": [
    "# Negative Indexing \n",
    "\n",
    "print(T1[-7])"
   ]
  },
  {
   "cell_type": "markdown",
   "id": "e16446d0-09c4-401c-a052-e45dc63ec62c",
   "metadata": {},
   "source": [
    "Ans 6 Unpack a Tuple \n",
    "\n",
    "**Unpacking a Tuple**: In Python, there is a very powerful tuple assignment feature that assigns the right-hand side of values into the left-hand side. In another way, it is called unpacking of a tuple of values into a variable. In packing, we put values into a new tuple while in unpacking we extract those values into a single variable.\n",
    "\n",
    "Example given below "
   ]
  },
  {
   "cell_type": "code",
   "execution_count": 15,
   "id": "ca96b8bc-fa36-45de-a211-ca249055ce41",
   "metadata": {},
   "outputs": [
    {
     "data": {
      "text/plain": [
       "(1, 2, 1, 4, 5, 4, 5, 'PW Skills', (4+5j))"
      ]
     },
     "execution_count": 15,
     "metadata": {},
     "output_type": "execute_result"
    }
   ],
   "source": [
    "T1"
   ]
  },
  {
   "cell_type": "code",
   "execution_count": 16,
   "id": "fdf7bc6f-4c66-4f60-b338-9947183f1802",
   "metadata": {},
   "outputs": [],
   "source": [
    "*a,b,c=T1"
   ]
  },
  {
   "cell_type": "code",
   "execution_count": 17,
   "id": "1e927252-2ca4-46e4-8b9a-aae519ddaa6f",
   "metadata": {},
   "outputs": [
    {
     "name": "stdout",
     "output_type": "stream",
     "text": [
      "[1, 2, 1, 4, 5, 4, 5]\n",
      "PW Skills\n",
      "(4+5j)\n"
     ]
    }
   ],
   "source": [
    "print(a)\n",
    "print(b)\n",
    "print(c)"
   ]
  }
 ],
 "metadata": {
  "kernelspec": {
   "display_name": "Python 3 (ipykernel)",
   "language": "python",
   "name": "python3"
  },
  "language_info": {
   "codemirror_mode": {
    "name": "ipython",
    "version": 3
   },
   "file_extension": ".py",
   "mimetype": "text/x-python",
   "name": "python",
   "nbconvert_exporter": "python",
   "pygments_lexer": "ipython3",
   "version": "3.10.8"
  }
 },
 "nbformat": 4,
 "nbformat_minor": 5
}
